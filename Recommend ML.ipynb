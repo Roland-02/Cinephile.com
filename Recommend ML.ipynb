{
 "cells": [
  {
   "cell_type": "code",
   "execution_count": 2,
   "id": "576c5740",
   "metadata": {},
   "outputs": [],
   "source": [
    "import pandas as pd #data processing\n",
    "import numpy as np #maths\n",
    "import requests as req #get data from url\n",
    "import gzip\n",
    "from io import BytesIO\n",
    "import sklearn\n",
    "\n"
   ]
  },
  {
   "cell_type": "code",
   "execution_count": 3,
   "id": "d1227cab",
   "metadata": {},
   "outputs": [
    {
     "name": "stderr",
     "output_type": "stream",
     "text": [
      "/var/folders/14/hwhy2lhx06d4s8wj8trw2n0r0000gn/T/ipykernel_67045/1935632158.py:19: DtypeWarning: Columns (4) have mixed types. Specify dtype option on import or set low_memory=False.\n",
      "  titles = pd.read_csv(BytesIO(title_basics_gzip), delimiter='\\t')\n"
     ]
    }
   ],
   "source": [
    "#get film datasets\n",
    "\n",
    "#set urls\n",
    "url_title_basics = 'https://datasets.imdbws.com/title.basics.tsv.gz' #film name, year, runtime, genres\n",
    "url_crew = 'https://datasets.imdbws.com/title.crew.tsv.gz' #writers and directors\n",
    "url_actors = 'https://datasets.imdbws.com/title.principals.tsv.gz' \n",
    "\n",
    "#download from url\n",
    "res_title_basics = req.get(url_title_basics).content\n",
    "res_crew = req.get(url_crew).content\n",
    "res_actors = req.get(url_actors).content\n",
    "\n",
    "#decompress\n",
    "title_basics_gzip = gzip.decompress(res_title_basics)\n",
    "crew_basics_gzip = gzip.decompress(res_crew)\n",
    "title_actors_gzip = gzip.decompress(res_actors)\n",
    "\n",
    "#read into array\n",
    "titles = pd.read_csv(BytesIO(title_basics_gzip), delimiter='\\t')\n",
    "crews = pd.read_csv(BytesIO(crew_basics_gzip), delimiter='\\t')\n",
    "actors = pd.read_csv(BytesIO(title_actors_gzip), delimiter='\\t')\n",
    "\n"
   ]
  },
  {
   "cell_type": "code",
   "execution_count": 11,
   "metadata": {},
   "outputs": [],
   "source": [
    "#clean data\n",
    "\n",
    "#remove non-movie rows\n",
    "titles = titles[titles['titleType'] == 'movie']\n",
    "\n",
    "#get tconsts for remaining non-movie rows\n",
    "film_tconsts = titles['tconst'].tolist()\n",
    "\n",
    "#remove corresponding non-movie rows\n",
    "crews = crews[crews['tconst'].isin(film_tconsts)]\n",
    "actors = actors[actors['tconst'].isin(film_tconsts)]\n",
    "\n",
    "#set columns to remove from dataset\n",
    "remove_from_titles = ['originalTitle', 'endYear']\n",
    "remove_from_actors = ['ordering','job','characters']\n",
    "\n",
    "titles = titles.drop(columns=remove_from_titles)\n",
    "actors = actors.drop(columns=remove_from_actors)\n"
   ]
  },
  {
   "cell_type": "code",
   "execution_count": 21,
   "metadata": {},
   "outputs": [
    {
     "data": {
      "text/html": [
       "<div>\n",
       "<style scoped>\n",
       "    .dataframe tbody tr th:only-of-type {\n",
       "        vertical-align: middle;\n",
       "    }\n",
       "\n",
       "    .dataframe tbody tr th {\n",
       "        vertical-align: top;\n",
       "    }\n",
       "\n",
       "    .dataframe thead th {\n",
       "        text-align: right;\n",
       "    }\n",
       "</style>\n",
       "<table border=\"1\" class=\"dataframe\">\n",
       "  <thead>\n",
       "    <tr style=\"text-align: right;\">\n",
       "      <th></th>\n",
       "      <th>tconst</th>\n",
       "      <th>titleType</th>\n",
       "      <th>primaryTitle</th>\n",
       "      <th>isAdult</th>\n",
       "      <th>startYear</th>\n",
       "      <th>runtimeMinutes</th>\n",
       "      <th>genres</th>\n",
       "    </tr>\n",
       "  </thead>\n",
       "  <tbody>\n",
       "    <tr>\n",
       "      <th>8</th>\n",
       "      <td>tt0000009</td>\n",
       "      <td>movie</td>\n",
       "      <td>Miss Jerry</td>\n",
       "      <td>0</td>\n",
       "      <td>1894</td>\n",
       "      <td>45</td>\n",
       "      <td>Romance</td>\n",
       "    </tr>\n",
       "    <tr>\n",
       "      <th>144</th>\n",
       "      <td>tt0000147</td>\n",
       "      <td>movie</td>\n",
       "      <td>The Corbett-Fitzsimmons Fight</td>\n",
       "      <td>0</td>\n",
       "      <td>1897</td>\n",
       "      <td>100</td>\n",
       "      <td>Documentary,News,Sport</td>\n",
       "    </tr>\n",
       "    <tr>\n",
       "      <th>498</th>\n",
       "      <td>tt0000502</td>\n",
       "      <td>movie</td>\n",
       "      <td>Bohemios</td>\n",
       "      <td>0</td>\n",
       "      <td>1905</td>\n",
       "      <td>100</td>\n",
       "      <td>\\N</td>\n",
       "    </tr>\n",
       "    <tr>\n",
       "      <th>570</th>\n",
       "      <td>tt0000574</td>\n",
       "      <td>movie</td>\n",
       "      <td>The Story of the Kelly Gang</td>\n",
       "      <td>0</td>\n",
       "      <td>1906</td>\n",
       "      <td>70</td>\n",
       "      <td>Action,Adventure,Biography</td>\n",
       "    </tr>\n",
       "    <tr>\n",
       "      <th>587</th>\n",
       "      <td>tt0000591</td>\n",
       "      <td>movie</td>\n",
       "      <td>The Prodigal Son</td>\n",
       "      <td>0</td>\n",
       "      <td>1907</td>\n",
       "      <td>90</td>\n",
       "      <td>Drama</td>\n",
       "    </tr>\n",
       "  </tbody>\n",
       "</table>\n",
       "</div>"
      ],
      "text/plain": [
       "        tconst titleType                   primaryTitle isAdult startYear  \\\n",
       "8    tt0000009     movie                     Miss Jerry       0      1894   \n",
       "144  tt0000147     movie  The Corbett-Fitzsimmons Fight       0      1897   \n",
       "498  tt0000502     movie                       Bohemios       0      1905   \n",
       "570  tt0000574     movie    The Story of the Kelly Gang       0      1906   \n",
       "587  tt0000591     movie               The Prodigal Son       0      1907   \n",
       "\n",
       "    runtimeMinutes                      genres  \n",
       "8               45                     Romance  \n",
       "144            100      Documentary,News,Sport  \n",
       "498            100                          \\N  \n",
       "570             70  Action,Adventure,Biography  \n",
       "587             90                       Drama  "
      ]
     },
     "execution_count": 21,
     "metadata": {},
     "output_type": "execute_result"
    }
   ],
   "source": [
    "titles.head()\n"
   ]
  }
 ],
 "metadata": {
  "kernelspec": {
   "display_name": "Python 3 (ipykernel)",
   "language": "python",
   "name": "python3"
  },
  "language_info": {
   "codemirror_mode": {
    "name": "ipython",
    "version": 3
   },
   "file_extension": ".py",
   "mimetype": "text/x-python",
   "name": "python",
   "nbconvert_exporter": "python",
   "pygments_lexer": "ipython3",
   "version": "3.11.5"
  }
 },
 "nbformat": 4,
 "nbformat_minor": 5
}
