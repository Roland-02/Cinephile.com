{
 "cells": [
  {
   "cell_type": "code",
   "execution_count": 3,
   "id": "576c5740",
   "metadata": {},
   "outputs": [],
   "source": [
    "import pandas as pd #data processing\n",
    "import numpy as np #maths\n",
    "import sklearn\n",
    "import requests as req\n",
    "import gzip"
   ]
  },
  {
   "cell_type": "code",
   "execution_count": 6,
   "id": "d1227cab",
   "metadata": {},
   "outputs": [
    {
     "name": "stdout",
     "output_type": "stream",
     "text": [
      "done\n"
     ]
    }
   ],
   "source": [
    "# URL of the IMDB datasets\n",
    "url_title_basics = 'https://datasets.imdbws.com/title.basics.tsv.gz'\n",
    "url_crew = 'https://datasets.imdbws.com/title.crew.tsv.gz'\n",
    "url_ratings = 'https://datasets.imdbws.com/title.ratings.tsv.gz'\n",
    "\n",
    "# Download the file from the URL\n",
    "res_title_basics = req.get(url_title_basics).content\n",
    "res_crew = req.get(url_crew).content\n",
    "res_ratings = req.get(url_ratings).content\n",
    "\n",
    "title_basics = gzip.decompress(res_title_basics)\n",
    "title_crew = gzip.decompress(res_crew)\n",
    "title_ratings = gzip.decompress(res_ratings)"
   ]
  }
 ],
 "metadata": {
  "kernelspec": {
   "display_name": "Python 3 (ipykernel)",
   "language": "python",
   "name": "python3"
  },
  "language_info": {
   "codemirror_mode": {
    "name": "ipython",
    "version": 3
   },
   "file_extension": ".py",
   "mimetype": "text/x-python",
   "name": "python",
   "nbconvert_exporter": "python",
   "pygments_lexer": "ipython3",
   "version": "3.11.5"
  }
 },
 "nbformat": 4,
 "nbformat_minor": 5
}
